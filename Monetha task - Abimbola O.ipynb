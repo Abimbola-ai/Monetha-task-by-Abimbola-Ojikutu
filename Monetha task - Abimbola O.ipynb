{
 "cells": [
  {
   "cell_type": "markdown",
   "metadata": {},
   "source": [
    "## Python Basic"
   ]
  },
  {
   "cell_type": "code",
   "execution_count": 1,
   "metadata": {},
   "outputs": [],
   "source": [
    "import pandas as pd"
   ]
  },
  {
   "cell_type": "code",
   "execution_count": 34,
   "metadata": {},
   "outputs": [
    {
     "data": {
      "text/html": [
       "<div>\n",
       "<style scoped>\n",
       "    .dataframe tbody tr th:only-of-type {\n",
       "        vertical-align: middle;\n",
       "    }\n",
       "\n",
       "    .dataframe tbody tr th {\n",
       "        vertical-align: top;\n",
       "    }\n",
       "\n",
       "    .dataframe thead th {\n",
       "        text-align: right;\n",
       "    }\n",
       "</style>\n",
       "<table border=\"1\" class=\"dataframe\">\n",
       "  <thead>\n",
       "    <tr style=\"text-align: right;\">\n",
       "      <th></th>\n",
       "      <th>sites</th>\n",
       "      <th>Number of banded birds</th>\n",
       "    </tr>\n",
       "  </thead>\n",
       "  <tbody>\n",
       "    <tr>\n",
       "      <th>0</th>\n",
       "      <td>A1</td>\n",
       "      <td>28</td>\n",
       "    </tr>\n",
       "    <tr>\n",
       "      <th>1</th>\n",
       "      <td>A2</td>\n",
       "      <td>32</td>\n",
       "    </tr>\n",
       "    <tr>\n",
       "      <th>2</th>\n",
       "      <td>A3</td>\n",
       "      <td>1</td>\n",
       "    </tr>\n",
       "    <tr>\n",
       "      <th>3</th>\n",
       "      <td>A4</td>\n",
       "      <td>0</td>\n",
       "    </tr>\n",
       "    <tr>\n",
       "      <th>4</th>\n",
       "      <td>A5</td>\n",
       "      <td>10</td>\n",
       "    </tr>\n",
       "  </tbody>\n",
       "</table>\n",
       "</div>"
      ],
      "text/plain": [
       "  sites  Number of banded birds\n",
       "0    A1                      28\n",
       "1    A2                      32\n",
       "2    A3                       1\n",
       "3    A4                       0\n",
       "4    A5                      10"
      ]
     },
     "execution_count": 34,
     "metadata": {},
     "output_type": "execute_result"
    }
   ],
   "source": [
    "data = [['A1', 28], ['A2', 32], ['A3', 1], ['A4', 0],\n",
    "['A5', 10], ['A6', 22], ['A7', 30], ['A8', 19],\n",
    "['B1', 145], ['B2', 27], ['B3', 36], ['B4', 25],\n",
    "['B5', 9], ['B6', 38], ['B7', 21], ['B8', 12],\n",
    "['C1', 122], ['C2', 87], ['C3', 36], ['C4', 3],\n",
    "['D1', 0], ['D2', 5], ['D3', 55], ['D4', 62],\n",
    "['D5', 98], ['D6', 32]]\n",
    "df = pd.DataFrame(data, columns = [\"sites\", \"Number of banded birds\"])\n",
    "df.head()"
   ]
  },
  {
   "cell_type": "code",
   "execution_count": 13,
   "metadata": {},
   "outputs": [
    {
     "name": "stdout",
     "output_type": "stream",
     "text": [
      "There are 26 sites\n"
     ]
    }
   ],
   "source": [
    "# How many sites are there?\n",
    "print(\"There are \" + str(len(df.sites)) + \" sites\")"
   ]
  },
  {
   "cell_type": "code",
   "execution_count": 35,
   "metadata": {},
   "outputs": [
    {
     "name": "stdout",
     "output_type": "stream",
     "text": [
      "30 number of birds were counted at the 7th site\n"
     ]
    }
   ],
   "source": [
    "#How many birds were counted at the 7th site?\n",
    "print(str(df.iloc[6,1]) + \" number of birds were counted at the 7th site\")"
   ]
  },
  {
   "cell_type": "code",
   "execution_count": 39,
   "metadata": {},
   "outputs": [
    {
     "name": "stdout",
     "output_type": "stream",
     "text": [
      "32 number of birds were counted at the last site\n"
     ]
    }
   ],
   "source": [
    "# How many birds were counted at the last site?\n",
    "print(str(df.iloc[-1,1]) + \" number of birds were counted at the last site\")"
   ]
  },
  {
   "cell_type": "code",
   "execution_count": 42,
   "metadata": {},
   "outputs": [
    {
     "name": "stdout",
     "output_type": "stream",
     "text": [
      "955 birds were counted across all sites\n"
     ]
    }
   ],
   "source": [
    "# What is the total number of birds counted across all sites?\n",
    "sum_total = df[\"Number of banded birds\"].sum(axis = 0, skipna = True)\n",
    "print(str(sum_total) + \" birds were counted across all sites\")"
   ]
  },
  {
   "cell_type": "code",
   "execution_count": 51,
   "metadata": {},
   "outputs": [
    {
     "name": "stdout",
     "output_type": "stream",
     "text": [
      "Average number of birds seen on the sites are 37.0\n"
     ]
    }
   ],
   "source": [
    "# What is the average number of birds seen on the site?\n",
    "average_no_of_birds = sum_total/len(df.sites)\n",
    "print(\"Average number of birds seen on the sites are \" + str(round(average_no_of_birds,0)))"
   ]
  },
  {
   "cell_type": "code",
   "execution_count": 55,
   "metadata": {},
   "outputs": [
    {
     "name": "stdout",
     "output_type": "stream",
     "text": [
      "248 birds were counted across sites C\n"
     ]
    }
   ],
   "source": [
    "# What is the total number of birds counted on sites with codes beginning with C?\n",
    "C_sites = df[df.sites.str.startswith(\"C\")]\n",
    "sum_total_sites_C = C_sites[\"Number of banded birds\"].sum(axis = 0, skipna = True)\n",
    "print(str(sum_total_sites_C) + \" birds were counted across sites C\")"
   ]
  },
  {
   "cell_type": "markdown",
   "metadata": {},
   "source": [
    "## Python Intermediate"
   ]
  },
  {
   "cell_type": "markdown",
   "metadata": {},
   "source": [
    "Write a function that takes a list of lists and returns \n",
    "the value of all of the symbols in it, where each symbol adds or takes \n",
    "something from the total score. Symbol values:\n",
    "\n",
    "- `#` = 5\n",
    "- `O` = 3\n",
    "- `X` = 1\n",
    "- `!` = -1\n",
    "- `!!` = -3\n",
    "- `!!!` = -5"
   ]
  },
  {
   "cell_type": "code",
   "execution_count": 87,
   "metadata": {},
   "outputs": [],
   "source": [
    "def check_score(li):\n",
    "    \"\"\"This function checks the score output\n",
    "    on a list of list based on the symbol. If output is negative, it returns zero.\"\"\"\n",
    "    symbols = {\"#\":5, \"O\":3, \"X\":1, \"!\":-1,\"!!\":-3, \"!!!\":-5}\n",
    "    sum_of = 0\n",
    "    for list in li:\n",
    "        for i in list:\n",
    "            value = symbols[i]\n",
    "            sum_of += value\n",
    "    \n",
    "    if sum_of > 0:\n",
    "        return sum_of\n",
    "    else:\n",
    "        return 0\n",
    "    "
   ]
  },
  {
   "cell_type": "code",
   "execution_count": 88,
   "metadata": {},
   "outputs": [
    {
     "data": {
      "text/plain": [
       "2"
      ]
     },
     "execution_count": 88,
     "metadata": {},
     "output_type": "execute_result"
    }
   ],
   "source": [
    "check_score([\n",
    "  [\"#\", \"!\"],\n",
    "  [\"!!\", \"X\"]\n",
    "])"
   ]
  },
  {
   "cell_type": "code",
   "execution_count": 89,
   "metadata": {},
   "outputs": [
    {
     "data": {
      "text/plain": [
       "0"
      ]
     },
     "execution_count": 89,
     "metadata": {},
     "output_type": "execute_result"
    }
   ],
   "source": [
    "check_score([\n",
    "  [\"!!!\", \"O\", \"!\"],\n",
    "  [\"X\", \"#\", \"!!!\"],\n",
    "  [\"!!\", \"X\", \"O\"]\n",
    "])"
   ]
  },
  {
   "cell_type": "code",
   "execution_count": 90,
   "metadata": {},
   "outputs": [
    {
     "data": {
      "text/plain": [
       "12"
      ]
     },
     "execution_count": 90,
     "metadata": {},
     "output_type": "execute_result"
    }
   ],
   "source": [
    "check_score([\n",
    "  [\"#\", \"O\", \"#\", \"!!\", \"X\", \"!!\", \"#\", \"O\", \"O\", \"!!\", \"#\", \"X\", \"#\", \"O\"],\n",
    "  [\"!!!\", \"!!!\", \"!!\", \"!!\", \"!\", \"!\", \"X\", \"!\", \"!!!\", \"O\", \"!\", \"!!!\", \"X\", \"#\"],\n",
    "  [\"#\", \"X\", \"#\", \"!!!\", \"!\", \"!!\", \"#\", \"#\", \"!!\", \"X\", \"!!\", \"!!!\", \"X\", \"O\"],\n",
    "  [\"!!\", \"X\", \"!!\", \"!!\", \"!!!\", \"#\", \"O\", \"O\", \"!!!\", \"#\", \"O\", \"O\", \"#\", \"!!\"],\n",
    "  [\"O\", \"X\", \"#\", \"!\", \"!\", \"X\", \"!!!\", \"O\", \"!!!\", \"!!\", \"O\", \"!\", \"O\", \"X\"],\n",
    "  [\"!!\", \"!!!\", \"X\", \"!!!\", \"!!\", \"!!\", \"!!!\", \"X\", \"O\", \"!\", \"#\", \"!!\", \"!!\", \"!!!\"],\n",
    "  [\"!!\", \"!!\", \"#\", \"O\", \"!\", \"!!\", \"!\", \"!!!\", \"#\", \"O\", \"#\", \"!\", \"#\", \"!!\"],\n",
    "  [\"X\", \"X\", \"O\", \"X\", \"!!!\", \"#\", \"!!!\", \"!!!\", \"X\", \"X\", \"X\", \"!\", \"#\", \"!!\"],\n",
    "  [\"O\", \"!!!\", \"!\", \"O\", \"#\", \"!\", \"!\", \"#\", \"X\", \"X\", \"#\", \"O\", \"!!\", \"!\"],\n",
    "  [\"X\", \"!\", \"!!\", \"#\", \"#\", \"X\", \"!!\", \"O\", \"!!\", \"X\", \"X\", \"!!\", \"#\", \"X\"],\n",
    "  [\"!\", \"!!\", \"!!\", \"O\", \"!!\", \"!!\", \"#\", \"#\", \"!\", \"!!!\", \"O\", \"!\", \"#\", \"#\"],\n",
    "  [\"!\", \"!!!\", \"!!\", \"X\", \"!!\", \"!!\", \"#\", \"!!!\", \"O\", \"!!\", \"!!!\", \"!\", \"!\", \"!\"],\n",
    "  [\"!!!\", \"!!!\", \"!!\", \"O\", \"!\", \"!\", \"!!!\", \"!!!\", \"!!\", \"!!\", \"X\", \"!\", \"#\", \"#\"],\n",
    "  [\"O\", \"O\", \"#\", \"O\", \"#\", \"!\", \"!!!\", \"X\", \"X\", \"O\", \"!\", \"!!!\", \"X\", \"O\"]\n",
    "])"
   ]
  },
  {
   "cell_type": "code",
   "execution_count": null,
   "metadata": {},
   "outputs": [],
   "source": []
  }
 ],
 "metadata": {
  "kernelspec": {
   "display_name": "Python 3",
   "language": "python",
   "name": "python3"
  },
  "language_info": {
   "codemirror_mode": {
    "name": "ipython",
    "version": 3
   },
   "file_extension": ".py",
   "mimetype": "text/x-python",
   "name": "python",
   "nbconvert_exporter": "python",
   "pygments_lexer": "ipython3",
   "version": "3.7.4"
  }
 },
 "nbformat": 4,
 "nbformat_minor": 2
}
